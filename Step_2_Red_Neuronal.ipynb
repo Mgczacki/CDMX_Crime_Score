{
 "cells": [
  {
   "cell_type": "markdown",
   "metadata": {
    "id": "rZm15nqcTtH2"
   },
   "source": [
    "# Generación de la red neuronal\n",
    "\n",
    "En este notebook se generará la red neuronal utilizando Pytorch."
   ]
  },
  {
   "cell_type": "code",
   "execution_count": 1,
   "metadata": {
    "id": "a3l08KQy0znz"
   },
   "outputs": [],
   "source": [
    "import pandas as pd\n",
    "import numpy as np\n",
    "df = pd.read_csv(\"datos_preparados.csv\")"
   ]
  },
  {
   "cell_type": "code",
   "execution_count": 2,
   "metadata": {},
   "outputs": [
    {
     "data": {
      "text/html": [
       "<div>\n",
       "<style scoped>\n",
       "    .dataframe tbody tr th:only-of-type {\n",
       "        vertical-align: middle;\n",
       "    }\n",
       "\n",
       "    .dataframe tbody tr th {\n",
       "        vertical-align: top;\n",
       "    }\n",
       "\n",
       "    .dataframe thead th {\n",
       "        text-align: right;\n",
       "    }\n",
       "</style>\n",
       "<table border=\"1\" class=\"dataframe\">\n",
       "  <thead>\n",
       "    <tr style=\"text-align: right;\">\n",
       "      <th></th>\n",
       "      <th>score</th>\n",
       "      <th>v_0_dist</th>\n",
       "      <th>v_0_tiem</th>\n",
       "      <th>v_1_dist</th>\n",
       "      <th>v_1_tiem</th>\n",
       "      <th>v_2_dist</th>\n",
       "      <th>v_2_tiem</th>\n",
       "      <th>v_3_dist</th>\n",
       "      <th>v_3_tiem</th>\n",
       "      <th>v_4_dist</th>\n",
       "      <th>...</th>\n",
       "      <th>v_5_dist</th>\n",
       "      <th>v_5_tiem</th>\n",
       "      <th>v_6_dist</th>\n",
       "      <th>v_6_tiem</th>\n",
       "      <th>v_7_dist</th>\n",
       "      <th>v_7_tiem</th>\n",
       "      <th>v_8_dist</th>\n",
       "      <th>v_8_tiem</th>\n",
       "      <th>v_9_dist</th>\n",
       "      <th>v_9_tiem</th>\n",
       "    </tr>\n",
       "  </thead>\n",
       "  <tbody>\n",
       "    <tr>\n",
       "      <th>0</th>\n",
       "      <td>0.587151</td>\n",
       "      <td>0.112671</td>\n",
       "      <td>0.700000</td>\n",
       "      <td>0.238930</td>\n",
       "      <td>0.466667</td>\n",
       "      <td>0.240804</td>\n",
       "      <td>0.233333</td>\n",
       "      <td>0.266376</td>\n",
       "      <td>0.266667</td>\n",
       "      <td>0.275522</td>\n",
       "      <td>...</td>\n",
       "      <td>0.277959</td>\n",
       "      <td>0.500000</td>\n",
       "      <td>0.283555</td>\n",
       "      <td>0.466667</td>\n",
       "      <td>0.286049</td>\n",
       "      <td>0.600000</td>\n",
       "      <td>0.302431</td>\n",
       "      <td>0.633333</td>\n",
       "      <td>0.303229</td>\n",
       "      <td>0.166667</td>\n",
       "    </tr>\n",
       "    <tr>\n",
       "      <th>1</th>\n",
       "      <td>0.733958</td>\n",
       "      <td>0.018951</td>\n",
       "      <td>0.166667</td>\n",
       "      <td>0.089886</td>\n",
       "      <td>0.433333</td>\n",
       "      <td>0.098781</td>\n",
       "      <td>0.066667</td>\n",
       "      <td>0.113784</td>\n",
       "      <td>0.066667</td>\n",
       "      <td>0.115626</td>\n",
       "      <td>...</td>\n",
       "      <td>0.122973</td>\n",
       "      <td>0.466667</td>\n",
       "      <td>0.126062</td>\n",
       "      <td>0.600000</td>\n",
       "      <td>0.127179</td>\n",
       "      <td>0.133333</td>\n",
       "      <td>0.127710</td>\n",
       "      <td>0.500000</td>\n",
       "      <td>0.154003</td>\n",
       "      <td>0.900000</td>\n",
       "    </tr>\n",
       "    <tr>\n",
       "      <th>2</th>\n",
       "      <td>0.628651</td>\n",
       "      <td>0.040814</td>\n",
       "      <td>0.033333</td>\n",
       "      <td>0.041370</td>\n",
       "      <td>0.033333</td>\n",
       "      <td>0.050244</td>\n",
       "      <td>0.833333</td>\n",
       "      <td>0.054075</td>\n",
       "      <td>0.066667</td>\n",
       "      <td>0.057232</td>\n",
       "      <td>...</td>\n",
       "      <td>0.061261</td>\n",
       "      <td>0.766667</td>\n",
       "      <td>0.064387</td>\n",
       "      <td>0.533333</td>\n",
       "      <td>0.095195</td>\n",
       "      <td>0.233333</td>\n",
       "      <td>0.105247</td>\n",
       "      <td>0.966667</td>\n",
       "      <td>0.167678</td>\n",
       "      <td>0.733333</td>\n",
       "    </tr>\n",
       "    <tr>\n",
       "      <th>3</th>\n",
       "      <td>0.501681</td>\n",
       "      <td>0.121885</td>\n",
       "      <td>0.366667</td>\n",
       "      <td>0.147557</td>\n",
       "      <td>0.400000</td>\n",
       "      <td>0.175356</td>\n",
       "      <td>0.433333</td>\n",
       "      <td>0.176455</td>\n",
       "      <td>0.100000</td>\n",
       "      <td>0.204137</td>\n",
       "      <td>...</td>\n",
       "      <td>0.270742</td>\n",
       "      <td>0.100000</td>\n",
       "      <td>0.271145</td>\n",
       "      <td>0.833333</td>\n",
       "      <td>0.297303</td>\n",
       "      <td>0.766667</td>\n",
       "      <td>0.311252</td>\n",
       "      <td>0.866667</td>\n",
       "      <td>0.313011</td>\n",
       "      <td>0.233333</td>\n",
       "    </tr>\n",
       "    <tr>\n",
       "      <th>4</th>\n",
       "      <td>0.734773</td>\n",
       "      <td>0.025289</td>\n",
       "      <td>0.733333</td>\n",
       "      <td>0.056600</td>\n",
       "      <td>0.766667</td>\n",
       "      <td>0.077926</td>\n",
       "      <td>0.100000</td>\n",
       "      <td>0.096454</td>\n",
       "      <td>0.966667</td>\n",
       "      <td>0.144502</td>\n",
       "      <td>...</td>\n",
       "      <td>0.154292</td>\n",
       "      <td>0.700000</td>\n",
       "      <td>0.179372</td>\n",
       "      <td>0.333333</td>\n",
       "      <td>0.181094</td>\n",
       "      <td>0.166667</td>\n",
       "      <td>0.203732</td>\n",
       "      <td>0.933333</td>\n",
       "      <td>0.207678</td>\n",
       "      <td>0.333333</td>\n",
       "    </tr>\n",
       "    <tr>\n",
       "      <th>...</th>\n",
       "      <td>...</td>\n",
       "      <td>...</td>\n",
       "      <td>...</td>\n",
       "      <td>...</td>\n",
       "      <td>...</td>\n",
       "      <td>...</td>\n",
       "      <td>...</td>\n",
       "      <td>...</td>\n",
       "      <td>...</td>\n",
       "      <td>...</td>\n",
       "      <td>...</td>\n",
       "      <td>...</td>\n",
       "      <td>...</td>\n",
       "      <td>...</td>\n",
       "      <td>...</td>\n",
       "      <td>...</td>\n",
       "      <td>...</td>\n",
       "      <td>...</td>\n",
       "      <td>...</td>\n",
       "      <td>...</td>\n",
       "      <td>...</td>\n",
       "    </tr>\n",
       "    <tr>\n",
       "      <th>361019</th>\n",
       "      <td>0.254874</td>\n",
       "      <td>0.208194</td>\n",
       "      <td>0.366667</td>\n",
       "      <td>0.230433</td>\n",
       "      <td>0.033333</td>\n",
       "      <td>0.493439</td>\n",
       "      <td>0.266667</td>\n",
       "      <td>0.576054</td>\n",
       "      <td>0.700000</td>\n",
       "      <td>0.597056</td>\n",
       "      <td>...</td>\n",
       "      <td>0.622809</td>\n",
       "      <td>0.900000</td>\n",
       "      <td>0.647953</td>\n",
       "      <td>0.733333</td>\n",
       "      <td>0.652337</td>\n",
       "      <td>0.966667</td>\n",
       "      <td>0.652337</td>\n",
       "      <td>0.766667</td>\n",
       "      <td>0.652337</td>\n",
       "      <td>0.300000</td>\n",
       "    </tr>\n",
       "    <tr>\n",
       "      <th>361020</th>\n",
       "      <td>0.254874</td>\n",
       "      <td>0.229212</td>\n",
       "      <td>0.366667</td>\n",
       "      <td>0.254242</td>\n",
       "      <td>0.033333</td>\n",
       "      <td>0.515213</td>\n",
       "      <td>0.266667</td>\n",
       "      <td>0.599310</td>\n",
       "      <td>0.700000</td>\n",
       "      <td>0.626039</td>\n",
       "      <td>...</td>\n",
       "      <td>0.627384</td>\n",
       "      <td>0.266667</td>\n",
       "      <td>0.628585</td>\n",
       "      <td>0.900000</td>\n",
       "      <td>0.630442</td>\n",
       "      <td>0.966667</td>\n",
       "      <td>0.630442</td>\n",
       "      <td>0.766667</td>\n",
       "      <td>0.630442</td>\n",
       "      <td>0.300000</td>\n",
       "    </tr>\n",
       "    <tr>\n",
       "      <th>361021</th>\n",
       "      <td>0.276802</td>\n",
       "      <td>0.184383</td>\n",
       "      <td>0.033333</td>\n",
       "      <td>0.223806</td>\n",
       "      <td>0.366667</td>\n",
       "      <td>0.446496</td>\n",
       "      <td>0.266667</td>\n",
       "      <td>0.529780</td>\n",
       "      <td>0.700000</td>\n",
       "      <td>0.569909</td>\n",
       "      <td>...</td>\n",
       "      <td>0.630796</td>\n",
       "      <td>0.400000</td>\n",
       "      <td>0.656477</td>\n",
       "      <td>0.900000</td>\n",
       "      <td>0.694656</td>\n",
       "      <td>0.733333</td>\n",
       "      <td>0.699051</td>\n",
       "      <td>0.966667</td>\n",
       "      <td>0.699051</td>\n",
       "      <td>0.766667</td>\n",
       "    </tr>\n",
       "    <tr>\n",
       "      <th>361022</th>\n",
       "      <td>0.254874</td>\n",
       "      <td>0.221931</td>\n",
       "      <td>0.366667</td>\n",
       "      <td>0.242994</td>\n",
       "      <td>0.033333</td>\n",
       "      <td>0.504732</td>\n",
       "      <td>0.266667</td>\n",
       "      <td>0.588381</td>\n",
       "      <td>0.700000</td>\n",
       "      <td>0.615068</td>\n",
       "      <td>...</td>\n",
       "      <td>0.628181</td>\n",
       "      <td>0.900000</td>\n",
       "      <td>0.636306</td>\n",
       "      <td>0.733333</td>\n",
       "      <td>0.640703</td>\n",
       "      <td>0.966667</td>\n",
       "      <td>0.640703</td>\n",
       "      <td>0.766667</td>\n",
       "      <td>0.640703</td>\n",
       "      <td>0.300000</td>\n",
       "    </tr>\n",
       "    <tr>\n",
       "      <th>361023</th>\n",
       "      <td>0.312551</td>\n",
       "      <td>0.183609</td>\n",
       "      <td>0.366667</td>\n",
       "      <td>0.208533</td>\n",
       "      <td>0.033333</td>\n",
       "      <td>0.472497</td>\n",
       "      <td>0.266667</td>\n",
       "      <td>0.552670</td>\n",
       "      <td>0.700000</td>\n",
       "      <td>0.561224</td>\n",
       "      <td>...</td>\n",
       "      <td>0.613589</td>\n",
       "      <td>0.900000</td>\n",
       "      <td>0.654078</td>\n",
       "      <td>0.400000</td>\n",
       "      <td>0.672274</td>\n",
       "      <td>0.733333</td>\n",
       "      <td>0.676626</td>\n",
       "      <td>0.966667</td>\n",
       "      <td>0.676626</td>\n",
       "      <td>0.766667</td>\n",
       "    </tr>\n",
       "  </tbody>\n",
       "</table>\n",
       "<p>361024 rows × 21 columns</p>\n",
       "</div>"
      ],
      "text/plain": [
       "           score  v_0_dist  v_0_tiem  v_1_dist  v_1_tiem  v_2_dist  v_2_tiem  \\\n",
       "0       0.587151  0.112671  0.700000  0.238930  0.466667  0.240804  0.233333   \n",
       "1       0.733958  0.018951  0.166667  0.089886  0.433333  0.098781  0.066667   \n",
       "2       0.628651  0.040814  0.033333  0.041370  0.033333  0.050244  0.833333   \n",
       "3       0.501681  0.121885  0.366667  0.147557  0.400000  0.175356  0.433333   \n",
       "4       0.734773  0.025289  0.733333  0.056600  0.766667  0.077926  0.100000   \n",
       "...          ...       ...       ...       ...       ...       ...       ...   \n",
       "361019  0.254874  0.208194  0.366667  0.230433  0.033333  0.493439  0.266667   \n",
       "361020  0.254874  0.229212  0.366667  0.254242  0.033333  0.515213  0.266667   \n",
       "361021  0.276802  0.184383  0.033333  0.223806  0.366667  0.446496  0.266667   \n",
       "361022  0.254874  0.221931  0.366667  0.242994  0.033333  0.504732  0.266667   \n",
       "361023  0.312551  0.183609  0.366667  0.208533  0.033333  0.472497  0.266667   \n",
       "\n",
       "        v_3_dist  v_3_tiem  v_4_dist  ...  v_5_dist  v_5_tiem  v_6_dist  \\\n",
       "0       0.266376  0.266667  0.275522  ...  0.277959  0.500000  0.283555   \n",
       "1       0.113784  0.066667  0.115626  ...  0.122973  0.466667  0.126062   \n",
       "2       0.054075  0.066667  0.057232  ...  0.061261  0.766667  0.064387   \n",
       "3       0.176455  0.100000  0.204137  ...  0.270742  0.100000  0.271145   \n",
       "4       0.096454  0.966667  0.144502  ...  0.154292  0.700000  0.179372   \n",
       "...          ...       ...       ...  ...       ...       ...       ...   \n",
       "361019  0.576054  0.700000  0.597056  ...  0.622809  0.900000  0.647953   \n",
       "361020  0.599310  0.700000  0.626039  ...  0.627384  0.266667  0.628585   \n",
       "361021  0.529780  0.700000  0.569909  ...  0.630796  0.400000  0.656477   \n",
       "361022  0.588381  0.700000  0.615068  ...  0.628181  0.900000  0.636306   \n",
       "361023  0.552670  0.700000  0.561224  ...  0.613589  0.900000  0.654078   \n",
       "\n",
       "        v_6_tiem  v_7_dist  v_7_tiem  v_8_dist  v_8_tiem  v_9_dist  v_9_tiem  \n",
       "0       0.466667  0.286049  0.600000  0.302431  0.633333  0.303229  0.166667  \n",
       "1       0.600000  0.127179  0.133333  0.127710  0.500000  0.154003  0.900000  \n",
       "2       0.533333  0.095195  0.233333  0.105247  0.966667  0.167678  0.733333  \n",
       "3       0.833333  0.297303  0.766667  0.311252  0.866667  0.313011  0.233333  \n",
       "4       0.333333  0.181094  0.166667  0.203732  0.933333  0.207678  0.333333  \n",
       "...          ...       ...       ...       ...       ...       ...       ...  \n",
       "361019  0.733333  0.652337  0.966667  0.652337  0.766667  0.652337  0.300000  \n",
       "361020  0.900000  0.630442  0.966667  0.630442  0.766667  0.630442  0.300000  \n",
       "361021  0.900000  0.694656  0.733333  0.699051  0.966667  0.699051  0.766667  \n",
       "361022  0.733333  0.640703  0.966667  0.640703  0.766667  0.640703  0.300000  \n",
       "361023  0.400000  0.672274  0.733333  0.676626  0.966667  0.676626  0.766667  \n",
       "\n",
       "[361024 rows x 21 columns]"
      ]
     },
     "execution_count": 2,
     "metadata": {},
     "output_type": "execute_result"
    }
   ],
   "source": [
    "df"
   ]
  },
  {
   "cell_type": "markdown",
   "metadata": {
    "id": "WDBmGrCtT6x_"
   },
   "source": [
    "### Preparación de datos\n",
    "\n",
    "Debido a que los datos fueron generados en el notebook anterior, solo basta con probar el acceso que utilizará la clase de dataset generada para Pytorch."
   ]
  },
  {
   "cell_type": "code",
   "execution_count": 3,
   "metadata": {
    "colab": {
     "base_uri": "https://localhost:8080/"
    },
    "id": "YEmcfUTK2F3V",
    "outputId": "a80893d8-e14a-4a19-98b7-e94e6075fa63"
   },
   "outputs": [
    {
     "data": {
      "text/plain": [
       "array([[0.5871508]])"
      ]
     },
     "execution_count": 3,
     "metadata": {},
     "output_type": "execute_result"
    }
   ],
   "source": [
    "np.array(df.iloc[0,0]).reshape(1, -1)"
   ]
  },
  {
   "cell_type": "markdown",
   "metadata": {
    "id": "KRRgSEN6UHnu"
   },
   "source": [
    "### Generación de clase dataset\n",
    "\n",
    "Para su uso en Pytorch, conviene generar una clase para el tratamiento del dataset. Este simplemente es una forma de accesar a un elemento individual de nuestro dataframe."
   ]
  },
  {
   "cell_type": "code",
   "execution_count": 4,
   "metadata": {
    "id": "iWnSN5nT11cx"
   },
   "outputs": [],
   "source": [
    "import torch\n",
    "from torch.utils.data import Dataset, DataLoader\n",
    "\n",
    "torch.device('cpu'), torch.cuda.device('cuda'), torch.cuda.device('cuda:1')\n",
    "\n",
    "class CDMXDataset(Dataset):\n",
    "    \"\"\"CDMX dataset.\"\"\"\n",
    "\n",
    "    def __init__(self, df):\n",
    "        self.df = df\n",
    "\n",
    "    def __len__(self):\n",
    "        return len(self.df)\n",
    "\n",
    "    def __getitem__(self, idx):\n",
    "        if torch.is_tensor(idx):\n",
    "            idx = idx.tolist()\n",
    "\n",
    "        score = np.array(self.df.iloc[idx, 0]).reshape(1, -1)\n",
    "        features = np.array(self.df.iloc[idx, 1:]).reshape(1, -1)\n",
    "        \n",
    "        sample = {'features': features, 'score': score}\n",
    "\n",
    "        return sample"
   ]
  },
  {
   "cell_type": "markdown",
   "metadata": {
    "id": "HH0yZvu6UVdq"
   },
   "source": [
    "### Instanciación de datasets\n",
    "\n",
    "En esta parte genero los objetos de dataset para cada uno de los dataframes. \n",
    "\n",
    "Generaré una división en conjuntos de entrenamiento, desarrollo y prueba para el entrenamiento y comprobación de la red."
   ]
  },
  {
   "cell_type": "code",
   "execution_count": 5,
   "metadata": {},
   "outputs": [],
   "source": [
    "#df = df.drop([\"v_7_dist\",\"v_7_tiem\",\"v_8_dist\",\"v_8_tiem\",\"v_9_dist\",\"v_9_tiem\"], axis=1)"
   ]
  },
  {
   "cell_type": "code",
   "execution_count": 6,
   "metadata": {},
   "outputs": [
    {
     "data": {
      "text/plain": [
       "361024"
      ]
     },
     "execution_count": 6,
     "metadata": {},
     "output_type": "execute_result"
    }
   ],
   "source": [
    "data_size = len(df)\n",
    "data_size"
   ]
  },
  {
   "cell_type": "code",
   "execution_count": 7,
   "metadata": {},
   "outputs": [],
   "source": [
    "train_size = np.ceil((len(df) * 0.80)).astype(int).item()\n",
    "test_size = np.ceil((len(df) * 0.1)).astype(int).item()\n",
    "dev_size = (len(df) - (train_size + test_size))"
   ]
  },
  {
   "cell_type": "code",
   "execution_count": 8,
   "metadata": {
    "id": "G843NYIM3XxB"
   },
   "outputs": [],
   "source": [
    "ds = CDMXDataset(df)\n",
    "\n",
    "train_batch_size = np.ceil(train_size/30).astype(int).item()\n",
    "\n",
    "train, dev, test = torch.utils.data.random_split(ds, [train_size, test_size, dev_size], generator=torch.Generator().manual_seed(42))\n",
    "\n",
    "trainloader = DataLoader(train, batch_size=train_batch_size, shuffle=True,pin_memory=True)\n",
    "devloader = DataLoader(dev, batch_size=dev_size,shuffle=False,pin_memory=True)"
   ]
  },
  {
   "cell_type": "code",
   "execution_count": 9,
   "metadata": {
    "id": "HNT2TAkh1Lsy"
   },
   "outputs": [],
   "source": [
    "import torch.nn as nn\n",
    "import torch.nn.functional as F\n",
    "device = torch.device('cuda' if torch.cuda.is_available() else 'cpu')\n",
    "device = torch.device('cpu')"
   ]
  },
  {
   "cell_type": "markdown",
   "metadata": {
    "id": "FWeP6zMlU8X6"
   },
   "source": [
    "### Definición de la red neuronal\n",
    "\n",
    "Será una muy simple, con una sola capa oculta. Esta tendrá funciones de activación ReLu y una sigmoide para la capa de salida debido al intervalo de valores deseado (entre 0 y 1)."
   ]
  },
  {
   "cell_type": "code",
   "execution_count": 10,
   "metadata": {
    "id": "iwgITEqzWE8C"
   },
   "outputs": [],
   "source": [
    "\"\"\"\n",
    "\n",
    "Red C-5:\n",
    "Parece converger con:\n",
    "avg. training loss 0.05917447567938195 and avg. dev loss 0.07621906946221527.\n",
    "Usados:\n",
    "Adam lr=0.005,0.003\n",
    "Net(\n",
    "  (fc1): Linear(in_features=20, out_features=26, bias=True)\n",
    "  (fc2): Linear(in_features=26, out_features=18, bias=True)\n",
    "  (fc3): Linear(in_features=18, out_features=12, bias=True)\n",
    "  (fc4): Linear(in_features=12, out_features=6, bias=True)\n",
    "  (fc5): Linear(in_features=6, out_features=1, bias=True)\n",
    ")\n",
    "\n",
    "class Net(nn.Module):\n",
    "    def __init__(self):\n",
    "        super(Net, self).__init__()\n",
    "        self.fc1 = nn.Linear(20, 26)\n",
    "        self.fc2 = nn.Linear(26, 18)\n",
    "        self.fc3 = nn.Linear(18, 12)\n",
    "        self.fc4 = nn.Linear(12, 6)\n",
    "        self.fc5 = nn.Linear(6, 1)\n",
    "    def forward(self, x):\n",
    "        x = F.relu(self.fc1(x))\n",
    "        x = F.relu(self.fc2(x))\n",
    "        x = F.relu(self.fc3(x))\n",
    "        x = F.relu(self.fc4(x))\n",
    "        x = torch.sigmoid(self.fc5(x))\n",
    "        return x\n",
    "net = Net()\n",
    "net = net.double()\n",
    "\n",
    "\"\"\"\n",
    "# Asumo avoidable bias > Variance y aumentó el performance en dev set, por lo que el aumento en complejidad de la\n",
    "# red se justifica.\n",
    "\"\"\"\n",
    "\n",
    "Red C-7:\n",
    "Parece converger con:\n",
    "avg. training loss 0.05004948045949362 and avg. dev loss 0.06486330087820615.\n",
    "Usados:\n",
    "Adam lr=0.01,0.005\n",
    "\n",
    "\n",
    "class Net(nn.Module):\n",
    "    def __init__(self):\n",
    "        super(Net, self).__init__()\n",
    "        self.fc1 = nn.Linear(20, 26)\n",
    "        self.fc2 = nn.Linear(26, 18)\n",
    "        self.fc3 = nn.Linear(18, 18)\n",
    "        self.fc4 = nn.Linear(18, 12)\n",
    "        self.fc5 = nn.Linear(12, 10)\n",
    "        self.fc6 = nn.Linear(10, 6)\n",
    "        self.fc7 = nn.Linear(6, 1)\n",
    "    def forward(self, x):\n",
    "        x = F.relu(self.fc1(x))\n",
    "        x = F.relu(self.fc2(x))\n",
    "        x = F.relu(self.fc3(x))\n",
    "        x = F.relu(self.fc4(x))\n",
    "        x = F.relu(self.fc5(x))\n",
    "        x = F.relu(self.fc6(x))\n",
    "        x = torch.sigmoid(self.fc7(x))\n",
    "        return x\n",
    "net = Net()\n",
    "net = net.double()\n",
    "\n",
    "\"\"\"\n",
    "#Red C-11\n",
    "\n",
    "class Net(nn.Module):\n",
    "    def __init__(self):\n",
    "        super(Net, self).__init__()\n",
    "        self.fc1 = nn.Linear(20, 26)\n",
    "        self.fc2 = nn.Linear(26, 28)\n",
    "        self.fc3 = nn.Linear(28, 18)\n",
    "        self.fc4 = nn.Linear(18, 15)\n",
    "        self.fc5 = nn.Linear(15, 15)\n",
    "        self.fc6 = nn.Linear(15, 12)\n",
    "        self.fc7 = nn.Linear(12, 12)\n",
    "        self.fc8 = nn.Linear(12, 10)\n",
    "        self.fc9 = nn.Linear(10, 6)\n",
    "        self.fc10 = nn.Linear(6, 6)\n",
    "        self.fc11 = nn.Linear(6, 1)\n",
    "    def forward(self, x):\n",
    "        x = F.relu(self.fc1(x))\n",
    "        x = F.relu(self.fc2(x))\n",
    "        x = F.relu(self.fc3(x))\n",
    "        x = F.relu(self.fc4(x))\n",
    "        x = F.relu(self.fc5(x))\n",
    "        x = F.relu(self.fc6(x))\n",
    "        x = F.relu(self.fc7(x))\n",
    "        x = F.relu(self.fc8(x))\n",
    "        x = F.relu(self.fc9(x))\n",
    "        x = F.relu(self.fc10(x))\n",
    "        x = torch.sigmoid(self.fc11(x))\n",
    "        return x\n",
    "net = Net()\n",
    "net = net.double().to(device)"
   ]
  },
  {
   "cell_type": "code",
   "execution_count": 11,
   "metadata": {
    "id": "0Ls4jBemFLTb"
   },
   "outputs": [],
   "source": [
    "net = torch.load('best-model.pt')"
   ]
  },
  {
   "cell_type": "markdown",
   "metadata": {
    "id": "_YEZnZIgVLQf"
   },
   "source": [
    "### Optimizador y criterio\n",
    "\n",
    "Para esta red se usará un criterio de error absoluto medio y un optimizador de descenso de gradiente estocástico con momento."
   ]
  },
  {
   "cell_type": "code",
   "execution_count": 21,
   "metadata": {
    "id": "RizwDreA4EAH"
   },
   "outputs": [],
   "source": [
    "import torch.optim as optim\n",
    "\n",
    "criterion = nn.L1Loss()\n",
    "#optimizer = optim.SGD(net.parameters(), lr = 0.01, momentum = 0.9, weight_decay=1e-6)\n",
    "#scheduler = torch.optim.lr_scheduler.CyclicLR(optimizer, base_lr=0.00375, max_lr=0.03)\n",
    "optimizer = optim.Adam(net.parameters(), lr = 0.01, weight_decay=1e-6)#[c11_h1_0.01_h2_1e-07.pt]\n",
    "#optimizer = optim.Adam(net.parameters(), lr = 0.001, weight_decay=1e-3)"
   ]
  },
  {
   "cell_type": "markdown",
   "metadata": {
    "id": "Szx-RTLKWDMW"
   },
   "source": [
    "### Entrenamiento de la red neuronal"
   ]
  },
  {
   "cell_type": "code",
   "execution_count": 13,
   "metadata": {
    "id": "sj0an5jox2rh"
   },
   "outputs": [],
   "source": [
    "loss_per_epoch = [0]\n",
    "training_loss = [0]\n",
    "stop_after_best = 100\n",
    "best_l = None\n",
    "best_tl = None\n",
    "worst_l = 0\n",
    "worst_tl = 0\n",
    "last_epoch_save = 0"
   ]
  },
  {
   "cell_type": "code",
   "execution_count": 22,
   "metadata": {
    "colab": {
     "base_uri": "https://localhost:8080/"
    },
    "id": "BU829KlT4FWe",
    "outputId": "983e9574-5396-4082-e463-bde0fd553102"
   },
   "outputs": [
    {
     "name": "stdout",
     "output_type": "stream",
     "text": [
      "###############################################\n",
      "Current epoch: 591\n",
      "Last model save was in epoch 491\n",
      "Stopping training in: 1 epochs.\n",
      "###############################################\n",
      "[Best iter] training loss is: 0.04285566929573087\n",
      "[Best iter] dev loss is: 0.06983152362696608\n",
      "###############################################\n",
      "[Last iter] training loss was: 0.04193613597884296\n",
      "[Last iter] dev. loss was: 0.07793476656424764\n",
      "###############################################\n"
     ]
    },
    {
     "data": {
      "image/png": "[encoded data removed]",
      "text/plain": [
       "<Figure size 432x288 with 1 Axes>"
      ]
     },
     "metadata": {
      "needs_background": "light"
     },
     "output_type": "display_data"
    },
    {
     "name": "stdout",
     "output_type": "stream",
     "text": [
      "Batch 1 done.\n",
      "Batch 2 done.\n",
      "Batch 3 done.\n",
      "Batch 4 done.\n",
      "Batch 5 done.\n",
      "Batch 6 done.\n",
      "Batch 7 done.\n",
      "Batch 8 done.\n",
      "Batch 9 done.\n",
      "Batch 10 done.\n",
      "Batch 11 done.\n",
      "Batch 12 done.\n",
      "Batch 13 done.\n",
      "Batch 14 done.\n",
      "Batch 15 done.\n",
      "Batch 16 done.\n",
      "Batch 17 done.\n",
      "Batch 18 done.\n",
      "Batch 19 done.\n",
      "Batch 20 done.\n",
      "Batch 21 done.\n",
      "Batch 22 done.\n",
      "Batch 23 done.\n",
      "Batch 24 done.\n",
      "Batch 25 done.\n",
      "Batch 26 done.\n",
      "Batch 27 done.\n",
      "Batch 28 done.\n",
      "Batch 29 done.\n",
      "Batch 30 done.\n",
      "Finished Training\n"
     ]
    }
   ],
   "source": [
    "%matplotlib inline\n",
    "import matplotlib.pyplot as plt\n",
    "from IPython import display\n",
    "\n",
    "stop_after_best = 100\n",
    "#Nombre del archivo de backup\n",
    "savefile = 'best-model.pt'\n",
    "\n",
    "epochs_without_change = 0\n",
    "epochs = len(loss_per_epoch)\n",
    "\n",
    "while epochs_without_change < stop_after_best:  # itero hasta que no mejore el desempeño en dev por 10 épocas\n",
    "    display.clear_output(wait=True)\n",
    "    print(\"###############################################\")\n",
    "    print(\"Current epoch: \" + str(epochs))\n",
    "    print(\"Last model save was in epoch \" + str(last_epoch_save))\n",
    "    print(\"Stopping training in: \" + str(stop_after_best - epochs_without_change) + \" epochs.\")\n",
    "    print(\"###############################################\")\n",
    "    print(\"[Best iter] training loss is: \" + str(best_tl))\n",
    "    print(\"[Best iter] dev loss is: \" + str(best_l))\n",
    "    print(\"###############################################\")\n",
    "    print(\"[Last iter] training loss was: \" + str(training_loss[-1]))\n",
    "    print(\"[Last iter] dev. loss was: \" + str(loss_per_epoch[-1]))\n",
    "    print(\"###############################################\")\n",
    "    #Dibujo lo que puedo\n",
    "    plt.plot(range(epochs), loss_per_epoch)\n",
    "    plt.plot(range(epochs), training_loss)\n",
    "    plt.legend([\"Dev Loss\", \"Training Loss\"])\n",
    "    plt.show()\n",
    "    tl = 0\n",
    "    for i, data in enumerate(trainloader, 0):\n",
    "        inputs = data['features'].to(device)\n",
    "        labels = data['score'].to(device)\n",
    "        # pongo las gradientes en cero\n",
    "        optimizer.zero_grad()\n",
    "\n",
    "        # forward + backward + optimize\n",
    "        outputs = net(inputs.double())\n",
    "        loss = criterion(outputs, labels)\n",
    "        tl += loss.item()\n",
    "        loss.backward()\n",
    "        optimizer.step()\n",
    "        #scheduler.step()\n",
    "        print(\"Batch \"+ str(i+1) + \" done.\")\n",
    "    tl /= np.ceil(len(df)/train_batch_size) #Asumo lotes del mismo tamaño\n",
    "    l = 0\n",
    "    #evaluar el modelo\n",
    "    net.eval()\n",
    "    with torch.no_grad():\n",
    "      for data in devloader:\n",
    "          outputs = net(data['features'].double().to(device))\n",
    "          l += criterion(outputs, data['score'].to(device)).item()\n",
    "    net.train()\n",
    "    epochs_without_change += 1\n",
    "    if best_l is None or best_l >= l:\n",
    "        torch.save(net, savefile)\n",
    "        best_l = l\n",
    "        best_tl = tl\n",
    "        epochs_without_change = 0\n",
    "        last_epoch_save = epochs\n",
    "        print(\"Model improved, saved.\")\n",
    "    #Para graficar con una escala coherente.\n",
    "    if(tl > worst_tl):\n",
    "        worst_tl = tl\n",
    "        training_loss[0] = worst_tl\n",
    "    if(l > worst_l):\n",
    "        worst_l = l\n",
    "        loss_per_epoch[0] = worst_l\n",
    "    #Rastreo las perdidas\n",
    "    loss_per_epoch.append(l)\n",
    "    training_loss.append(tl)\n",
    "    #Rastreo la época actual\n",
    "    epochs += 1\n",
    "    #print(\"Finished epoch \" + str(epochs) + \" with avg. training loss \" + str(tl)+ \" and avg. dev loss \"+ str(l) + \".\")\n",
    "print('Finished Training')"
   ]
  },
  {
   "cell_type": "markdown",
   "metadata": {
    "id": "mMUkUwp3WKlk"
   },
   "source": [
    "Durante el entrenamiento noté que existieron puntos en los que el modelo parecía converger con algunos hiperparámetros, por lo que experimenté cambiar los mismos de tal manera que se pudiera acelerar el entrenamiento a un nivel de desempeño aceptable en el conjunto dev (0.045 de error absoluto)."
   ]
  },
  {
   "cell_type": "code",
   "execution_count": 23,
   "metadata": {
    "colab": {
     "base_uri": "https://localhost:8080/",
     "height": 284
    },
    "id": "rr_VL8eFVj74",
    "outputId": "ee5afd6c-5cce-4a51-b7b3-2cf00e1682f3"
   },
   "outputs": [
    {
     "data": {
      "text/plain": [
       "<matplotlib.legend.Legend at 0x7f61941e3310>"
      ]
     },
     "execution_count": 23,
     "metadata": {},
     "output_type": "execute_result"
    },
    {
     "data": {
      "image/png": "[encoded data removed]",
      "text/plain": [
       "<Figure size 432x288 with 1 Axes>"
      ]
     },
     "metadata": {
      "needs_background": "light"
     },
     "output_type": "display_data"
    }
   ],
   "source": [
    "#Debido a un reinicio de la computadora se perdieron los datos de desempeño en épocas anteriores.\n",
    "import matplotlib.pyplot as plt\n",
    "plt.plot(range(epochs), loss_per_epoch)\n",
    "plt.plot(range(epochs), training_loss)\n",
    "plt.legend([\"Dev Loss\", \"Training Loss\"])"
   ]
  },
  {
   "cell_type": "code",
   "execution_count": 24,
   "metadata": {
    "id": "m1G78GncM-SO"
   },
   "outputs": [],
   "source": [
    "testloader = DataLoader(test,shuffle=False)"
   ]
  },
  {
   "cell_type": "code",
   "execution_count": 25,
   "metadata": {
    "colab": {
     "base_uri": "https://localhost:8080/"
    },
    "id": "7CtggON1VwIU",
    "outputId": "bade906b-d645-4a7e-d2e0-0af8cd28d224"
   },
   "outputs": [
    {
     "name": "stdout",
     "output_type": "stream",
     "text": [
      "Avg. test loss: 0.05449132474741283\n"
     ]
    }
   ],
   "source": [
    "net = torch.load(savefile)\n",
    "l = 0\n",
    "salidas = []\n",
    "net.eval()\n",
    "with torch.no_grad():\n",
    "  for data in testloader:\n",
    "    outputs = net(data['features'].double().to(device))\n",
    "    salidas.append([data['score'].item(),outputs.item()])\n",
    "    l += criterion(outputs, data['score'].to(device)).item()\n",
    "net.train()\n",
    "\n",
    "l/=len(testloader)\n",
    "print('Avg. test loss: '+str(l))"
   ]
  },
  {
   "cell_type": "code",
   "execution_count": 26,
   "metadata": {
    "id": "AL6xRZsRNP0-"
   },
   "outputs": [],
   "source": [
    "df_comp = pd.DataFrame(salidas, columns=['pred', 'score'])"
   ]
  },
  {
   "cell_type": "code",
   "execution_count": 27,
   "metadata": {
    "colab": {
     "base_uri": "https://localhost:8080/",
     "height": 334
    },
    "id": "U3Z6C_DcN2K6",
    "outputId": "c156b1d6-f3b3-48f9-f1b2-f7509f917e39",
    "scrolled": true
   },
   "outputs": [
    {
     "data": {
      "text/html": [
       "<div>\n",
       "<style scoped>\n",
       "    .dataframe tbody tr th:only-of-type {\n",
       "        vertical-align: middle;\n",
       "    }\n",
       "\n",
       "    .dataframe tbody tr th {\n",
       "        vertical-align: top;\n",
       "    }\n",
       "\n",
       "    .dataframe thead th {\n",
       "        text-align: right;\n",
       "    }\n",
       "</style>\n",
       "<table border=\"1\" class=\"dataframe\">\n",
       "  <thead>\n",
       "    <tr style=\"text-align: right;\">\n",
       "      <th></th>\n",
       "      <th>pred</th>\n",
       "      <th>score</th>\n",
       "    </tr>\n",
       "  </thead>\n",
       "  <tbody>\n",
       "    <tr>\n",
       "      <th>0</th>\n",
       "      <td>0.197198</td>\n",
       "      <td>0.207051</td>\n",
       "    </tr>\n",
       "    <tr>\n",
       "      <th>1</th>\n",
       "      <td>0.228939</td>\n",
       "      <td>0.205312</td>\n",
       "    </tr>\n",
       "    <tr>\n",
       "      <th>2</th>\n",
       "      <td>0.228939</td>\n",
       "      <td>0.436900</td>\n",
       "    </tr>\n",
       "    <tr>\n",
       "      <th>3</th>\n",
       "      <td>0.559365</td>\n",
       "      <td>0.573916</td>\n",
       "    </tr>\n",
       "    <tr>\n",
       "      <th>4</th>\n",
       "      <td>0.670006</td>\n",
       "      <td>0.617333</td>\n",
       "    </tr>\n",
       "    <tr>\n",
       "      <th>5</th>\n",
       "      <td>0.650826</td>\n",
       "      <td>0.658177</td>\n",
       "    </tr>\n",
       "    <tr>\n",
       "      <th>6</th>\n",
       "      <td>0.528315</td>\n",
       "      <td>0.549116</td>\n",
       "    </tr>\n",
       "    <tr>\n",
       "      <th>7</th>\n",
       "      <td>0.843473</td>\n",
       "      <td>0.824033</td>\n",
       "    </tr>\n",
       "    <tr>\n",
       "      <th>8</th>\n",
       "      <td>0.528315</td>\n",
       "      <td>0.551045</td>\n",
       "    </tr>\n",
       "    <tr>\n",
       "      <th>9</th>\n",
       "      <td>0.254874</td>\n",
       "      <td>0.220303</td>\n",
       "    </tr>\n",
       "  </tbody>\n",
       "</table>\n",
       "</div>"
      ],
      "text/plain": [
       "       pred     score\n",
       "0  0.197198  0.207051\n",
       "1  0.228939  0.205312\n",
       "2  0.228939  0.436900\n",
       "3  0.559365  0.573916\n",
       "4  0.670006  0.617333\n",
       "5  0.650826  0.658177\n",
       "6  0.528315  0.549116\n",
       "7  0.843473  0.824033\n",
       "8  0.528315  0.551045\n",
       "9  0.254874  0.220303"
      ]
     },
     "execution_count": 27,
     "metadata": {},
     "output_type": "execute_result"
    }
   ],
   "source": [
    "df_comp.take(range(10))"
   ]
  },
  {
   "cell_type": "markdown",
   "metadata": {},
   "source": [
    "El desempeño de esta arquitectura parece aceptable, ya que otras más complejas no parecen ofrecer mejoras en desempeño en la función de perdida para el conjnto development. Con este modelo listo se puede proceder a hacer el despliegue. "
   ]
  },
  {
   "cell_type": "code",
   "execution_count": 33,
   "metadata": {},
   "outputs": [
    {
     "data": {
      "text/plain": [
       "2942"
      ]
     },
     "execution_count": 33,
     "metadata": {},
     "output_type": "execute_result"
    }
   ],
   "source": [
    "pytorch_total_params = sum(p.numel() for p in net.parameters() if p.requires_grad)\n",
    "pytorch_total_params"
   ]
  }
 ],
 "metadata": {
  "accelerator": "GPU",
  "colab": {
   "collapsed_sections": [],
   "name": "Mineria_NN.ipynb",
   "provenance": [],
   "toc_visible": true
  },
  "kernelspec": {
   "display_name": "Python 3",
   "language": "python",
   "name": "python3"
  },
  "language_info": {
   "codemirror_mode": {
    "name": "ipython",
    "version": 3
   },
   "file_extension": ".py",
   "mimetype": "text/x-python",
   "name": "python",
   "nbconvert_exporter": "python",
   "pygments_lexer": "ipython3",
   "version": "3.8.3"
  }
 },
 "nbformat": 4,
 "nbformat_minor": 1
}
